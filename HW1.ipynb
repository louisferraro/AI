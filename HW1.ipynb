{
  "nbformat": 4,
  "nbformat_minor": 0,
  "metadata": {
    "colab": {
      "name": "HW1.ipynb",
      "provenance": [],
      "collapsed_sections": [
        "HCyulkvU8AKH",
        "JigdAZaL87-x"
      ],
      "authorship_tag": "ABX9TyN6KuJNLT4zoZQCqaq9Itsc",
      "include_colab_link": true
    },
    "kernelspec": {
      "name": "python3",
      "display_name": "Python 3"
    }
  },
  "cells": [
    {
      "cell_type": "markdown",
      "metadata": {
        "id": "view-in-github",
        "colab_type": "text"
      },
      "source": [
        "<a href=\"https://colab.research.google.com/github/louisferraro/AI/blob/master/HW1.ipynb\" target=\"_parent\"><img src=\"https://colab.research.google.com/assets/colab-badge.svg\" alt=\"Open In Colab\"/></a>"
      ]
    },
    {
      "cell_type": "markdown",
      "metadata": {
        "id": "HCyulkvU8AKH",
        "colab_type": "text"
      },
      "source": [
        "# This is a function that takes in a list of matrices (numpy arrays) and prints the output.\n",
        "\n",
        "For a given m x n Matrice A,\n",
        "\n",
        "\\begin{equation*}\n",
        "A_{m,n} = \n",
        "\\begin{pmatrix}\n",
        "a_{1,1} & a_{1,2} & \\cdots & a_{1,n} \\\\\n",
        "a_{2,1} & a_{2,2} & \\cdots & a_{2,n} \\\\\n",
        "\\vdots  & \\vdots  & \\ddots & \\vdots  \\\\\n",
        "a_{m,1} & a_{m,2} & \\cdots & a_{m,n} \n",
        "\\end{pmatrix}\n",
        "\\end{equation*}\n",
        "\n",
        "We can multiply a list of k matrices together\n",
        "\\begin{equation*}\n",
        "A_1, A_2, \\cdots, A_k\n",
        "\\end{equation*}\n",
        "\n",
        "So long as\n",
        "\\begin{equation*}\n",
        "A_1m,n * A_2m,n \\\\\n",
        "n = m\\\\\n",
        "\\end{equation*}\n",
        "\n",
        "\n"
      ]
    },
    {
      "cell_type": "code",
      "metadata": {
        "colab_type": "code",
        "id": "h9cW-LvAYuVv",
        "colab": {}
      },
      "source": [
        "import numpy as np      \n",
        "\n",
        "def multiply_matrices(array_list):\n",
        "  # use first matrice as the result\n",
        "  result = array_list[0]\n",
        "\n",
        "  for i in range(len(array_list)):\n",
        "    # return if we're at the end of the list\n",
        "    if i == len(array_list) - 1:\n",
        "      print(result)\n",
        "      return\n",
        "\n",
        "    # multiply result with the next matrix  \n",
        "    try:\n",
        "      result = np.matmul(result, array_list[i+1])\n",
        "    except:\n",
        "      # matmul won't work if dimensions don't match up\n",
        "      print(\"error, cannot multiply {} with {}.\".format(result, array_list[i+1]))\n",
        "      return\n",
        "    i = i + 1  \n"
      ],
      "execution_count": 0,
      "outputs": []
    },
    {
      "cell_type": "markdown",
      "metadata": {
        "id": "JigdAZaL87-x",
        "colab_type": "text"
      },
      "source": [
        "# This cell contains test matrices and actually calls the multiply_matrices function"
      ]
    },
    {
      "cell_type": "code",
      "metadata": {
        "colab_type": "code",
        "id": "EzWUz0bLn9i3",
        "colab": {
          "base_uri": "https://localhost:8080/",
          "height": 68
        },
        "outputId": "e9cc2fdc-452e-4c80-ca38-ec61b6382b02"
      },
      "source": [
        "array_list = [np.array([[3, -4, 12], \n",
        "                        [5, -1, 16]]), \n",
        "              np.array([2, 3, -2]),\n",
        "              np.array([[1, 2, -1],\n",
        "                       [2, 4, -5],\n",
        "                       [3, 0, -4]])]\n",
        "\n",
        "array_list2 = [np.array([[3, -4, 12], \n",
        "                        [5, -1, 16]]), \n",
        "              np.array([2, 3, -2]),\n",
        "              np.array([[1],\n",
        "                       [2]])]          \n",
        "\n",
        "multiply_matrices(array_list)"
      ],
      "execution_count": 106,
      "outputs": [
        {
          "output_type": "stream",
          "text": [
            "error, cannot multiply [-30 -25] with [[ 1  2 -1]\n",
            " [ 2  4 -5]\n",
            " [ 3  0 -4]].\n"
          ],
          "name": "stdout"
        }
      ]
    }
  ]
}